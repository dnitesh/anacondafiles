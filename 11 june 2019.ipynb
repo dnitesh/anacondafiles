{
 "cells": [
  {
   "cell_type": "markdown",
   "metadata": {},
   "source": [
    "## Markdown Basic\n",
    "\n",
    "* **Bold** \n",
    "* *Itallic* \n",
    "* ***IB*** \n",
    "* Normal Text\n",
    "  * SubList1\n",
    "  * Sublist2\n",
    "\n",
    "\n",
    "1. Ordered list Element 1\n",
    "2. Ordered list Element 1\n",
    "\n",
    "\n",
    "- []Option 1\n",
    "- []Option 2\n",
    "- [x]Option 3\n",
    "\n",
    "I get 10 times more traffic from [Google][1] than from\n",
    "[Yahoo][2] or [MSN][3].\n",
    "\n",
    "  [1]: http://google.com/        \"Google\"\n",
    "  [2]: http://search.yahoo.com/  \"Yahoo Search\"\n",
    "  [3]: http://search.msn.com/    \"MSN Search\"\n",
    "\n",
    "\n",
    "`printf(\"hello markdown\")`\n",
    "\n",
    "\n",
    "\n",
    "<http://example.com/>\n",
    "\n",
    "\n",
    "<mandavaramu227@gmail.com/>\n",
    "\n",
    "![Jupyter Logo](image1.png)\n",
    "<img scr=\"image1.png\" style=\"float:left\">\n"
   ]
  },
  {
   "cell_type": "markdown",
   "metadata": {},
   "source": [
    "## Python Basics:\n",
    "\n",
    "### python version 3.7\n",
    "\n",
    "- Scripting\n",
    "- Object Oriented\n"
   ]
  },
  {
   "cell_type": "code",
   "execution_count": 7,
   "metadata": {},
   "outputs": [
    {
     "name": "stdout",
     "output_type": "stream",
     "text": [
      "Good Afternoon  ! Hello Python\n"
     ]
    }
   ],
   "source": [
    "# python Comments\n",
    "\n",
    "print(\"Good Afternoon \",\"!\",end=\" || \") #Basic out put\n",
    "print(\"Hello Python\")\n"
   ]
  },
  {
   "cell_type": "code",
   "execution_count": null,
   "metadata": {},
   "outputs": [],
   "source": []
  },
  {
   "cell_type": "markdown",
   "metadata": {},
   "source": [
    "## Assignment"
   ]
  },
  {
   "cell_type": "code",
   "execution_count": 17,
   "metadata": {},
   "outputs": [
    {
     "name": "stdout",
     "output_type": "stream",
     "text": [
      "123 234 345\n"
     ]
    }
   ],
   "source": [
    "n1=123456 # Single variable assignment\n",
    "\n",
    "n2=n3=n4=n1 # multi variable assignment of the same value\n",
    "\n",
    "a,b,c=123,234,345 #multi variable assignment with different values\n",
    "\n",
    "print(a,b,c)"
   ]
  },
  {
   "cell_type": "code",
   "execution_count": null,
   "metadata": {},
   "outputs": [],
   "source": []
  },
  {
   "cell_type": "markdown",
   "metadata": {},
   "source": [
    "## Data Types And Type Conversions\n",
    "- int\n",
    "- float\n",
    "- string\n",
    "\n"
   ]
  },
  {
   "cell_type": "code",
   "execution_count": 51,
   "metadata": {},
   "outputs": [
    {
     "data": {
      "text/plain": [
       "12.0"
      ]
     },
     "execution_count": 51,
     "metadata": {},
     "output_type": "execute_result"
    }
   ],
   "source": [
    "\n",
    "type(a)\n",
    "s1=\"python\"\n",
    "type(s1)\n",
    "\n",
    "f1=12.89\n",
    "type(f1)\n",
    "int(f1)\n",
    "float(str(int(f1)))"
   ]
  },
  {
   "cell_type": "code",
   "execution_count": null,
   "metadata": {},
   "outputs": [],
   "source": []
  },
  {
   "cell_type": "markdown",
   "metadata": {},
   "source": [
    "### Arithmetic Operations\n",
    "- +\n",
    "- -\n",
    "- *\n",
    "- /\n",
    "- %\n",
    "- **"
   ]
  },
  {
   "cell_type": "code",
   "execution_count": 39,
   "metadata": {},
   "outputs": [
    {
     "data": {
      "text/plain": [
       "str"
      ]
     },
     "execution_count": 39,
     "metadata": {},
     "output_type": "execute_result"
    }
   ],
   "source": [
    "n1 % 11\n",
    "\n",
    "n3=n2 ** 12\n",
    "\n",
    "#type(n3)\n",
    "#len(str(n3))\n",
    "\n",
    "\n",
    "atoms=10 ** 82\n",
    "len(str(atoms))\n",
    "type(str(atoms))"
   ]
  },
  {
   "cell_type": "code",
   "execution_count": null,
   "metadata": {},
   "outputs": [],
   "source": []
  },
  {
   "cell_type": "markdown",
   "metadata": {},
   "source": [
    "## Conditionals"
   ]
  },
  {
   "cell_type": "code",
   "execution_count": 55,
   "metadata": {},
   "outputs": [
    {
     "name": "stdout",
     "output_type": "stream",
     "text": [
      "FALSE\n"
     ]
    }
   ],
   "source": [
    "if atoms < 10 ** 8:\n",
    "    print(\"TRUE\")\n",
    "else:\n",
    "    print(\"FALSE\")\n"
   ]
  },
  {
   "cell_type": "code",
   "execution_count": 2,
   "metadata": {},
   "outputs": [
    {
     "name": "stdout",
     "output_type": "stream",
     "text": [
      "enter number23\n",
      "odd number\n"
     ]
    }
   ],
   "source": [
    "#Check if number is  Even or odd\n",
    "\n",
    "n=int(input(\"enter number\"))\n",
    "if n%2==0:\n",
    "    print(\"even number\")\n",
    "else:\n",
    "    print(\"odd number\")\n",
    "\n",
    "\n"
   ]
  },
  {
   "cell_type": "code",
   "execution_count": null,
   "metadata": {},
   "outputs": [],
   "source": []
  },
  {
   "cell_type": "code",
   "execution_count": 4,
   "metadata": {},
   "outputs": [
    {
     "name": "stdout",
     "output_type": "stream",
     "text": [
      "Enter first number4567787\n",
      "Enter second number656587\n",
      "Enter third number674764744\n",
      "674764744 is greatest\n"
     ]
    }
   ],
   "source": [
    "# find the greatest of three numbers\n",
    "\n",
    "n1=input(\"Enter first number\")\n",
    "n2=input(\"Enter second number\")\n",
    "n3=input(\"Enter third number\")\n",
    "\n",
    "if n1 > n2 and n1 > n3:\n",
    "    print(n1,\"is the greatest\")\n",
    "elif n2 > n1 and n2 > n3:\n",
    "    print(n2,\"is the greatest\")\n",
    "else:\n",
    "    print(n3,\"is greatest\")"
   ]
  },
  {
   "cell_type": "code",
   "execution_count": null,
   "metadata": {},
   "outputs": [],
   "source": []
  },
  {
   "cell_type": "code",
   "execution_count": 5,
   "metadata": {},
   "outputs": [
    {
     "name": "stdout",
     "output_type": "stream",
     "text": [
      "enter year value2100\n",
      "not leap year\n"
     ]
    }
   ],
   "source": [
    "# Checking if a year is leap year\n",
    "year=int(input(\"enter year value\"))\n",
    "if year%400==0:\n",
    "    print(\"leap year\")\n",
    "elif year%100==0:\n",
    "    print(\"not leap year\")\n",
    "elif year%4==0:\n",
    "    print(\"leap year\")\n",
    "else:\n",
    "    print(\"not leap year\")"
   ]
  },
  {
   "cell_type": "code",
   "execution_count": 7,
   "metadata": {},
   "outputs": [
    {
     "name": "stdout",
     "output_type": "stream",
     "text": [
      "enter number65\n",
      "enter lower boundary30\n",
      "enter upper boundary84343\n",
      "True\n"
     ]
    }
   ],
   "source": [
    "# check if a number exists in a given range or not\n",
    "n=int(input(\"enter number\"))\n",
    "lb=int(input(\"enter lower boundary\"))\n",
    "ub=int(input(\"enter upper boundary\"))\n",
    "if n>=lb and n<=ub:\n",
    "    print(\"True\")\n",
    "else:\n",
    "    print(\"False\")"
   ]
  },
  {
   "cell_type": "code",
   "execution_count": 11,
   "metadata": {},
   "outputs": [
    {
     "name": "stdout",
     "output_type": "stream",
     "text": [
      "enter number743456\n",
      "6\n"
     ]
    }
   ],
   "source": [
    "# calculate the number of digits in number\n",
    "n=int(input(\"enter number\"))\n",
    "a=len(str(n))\n",
    "print(a)"
   ]
  },
  {
   "cell_type": "code",
   "execution_count": 15,
   "metadata": {},
   "outputs": [
    {
     "name": "stdout",
     "output_type": "stream",
     "text": [
      "Enter number123\n",
      "123  is not multiple by 10\n"
     ]
    }
   ],
   "source": [
    "#calculate if a number is multiple of 10\n",
    "n=int(input(\"Enter number\"))\n",
    "if n%10==0:\n",
    "    print(n,\" is multiple by 10\")\n",
    "else:\n",
    "    print(n,\" is not multiple by 10\")"
   ]
  },
  {
   "cell_type": "code",
   "execution_count": 17,
   "metadata": {},
   "outputs": [
    {
     "name": "stdout",
     "output_type": "stream",
     "text": [
      "enter number11323\n",
      "11323 is not factor of 1000\n"
     ]
    }
   ],
   "source": [
    "#check if a number is a factor of 1000\n",
    "n=int(input(\"enter number\"))\n",
    "if 1000%n==0:\n",
    "    print(n,\"is factor of 1000\")\n",
    "else:\n",
    "    print(n,\"is not factor of 1000\")"
   ]
  },
  {
   "cell_type": "code",
   "execution_count": 18,
   "metadata": {},
   "outputs": [
    {
     "name": "stdout",
     "output_type": "stream",
     "text": [
      "12345 is equal to 12345\n"
     ]
    }
   ],
   "source": [
    "# check if given string is equal to a number\n",
    "n=12345\n",
    "s=\"12345\"\n",
    "if str(n) == s:\n",
    "    print(n,\"is equal to\",s)\n",
    "else:\n",
    "    print(n,\"is not equal to\",s)"
   ]
  },
  {
   "cell_type": "code",
   "execution_count": 19,
   "metadata": {},
   "outputs": [
    {
     "data": {
      "text/plain": [
       "11.090536506409418"
      ]
     },
     "execution_count": 19,
     "metadata": {},
     "output_type": "execute_result"
    }
   ],
   "source": [
    "#Calculate the square root of a number without functions\n",
    "n1=123\n",
    "n1 ** 0.5"
   ]
  },
  {
   "cell_type": "code",
   "execution_count": 22,
   "metadata": {},
   "outputs": [
    {
     "name": "stdout",
     "output_type": "stream",
     "text": [
      "31536000000000000\n"
     ]
    }
   ],
   "source": [
    "#calculate the number of nano seconds in a given year(considering leap year logic)\n",
    "year=2019\n",
    "if year %400==0 or (year%100!=0 and year%4==0):\n",
    "    print(366*24*60*60*(10**9))\n",
    "else:\n",
    "    print(365*24*60*60*(10**9))"
   ]
  },
  {
   "cell_type": "code",
   "execution_count": null,
   "metadata": {},
   "outputs": [],
   "source": []
  },
  {
   "cell_type": "code",
   "execution_count": null,
   "metadata": {},
   "outputs": [],
   "source": []
  }
 ],
 "metadata": {
  "kernelspec": {
   "display_name": "Python 3",
   "language": "python",
   "name": "python3"
  },
  "language_info": {
   "codemirror_mode": {
    "name": "ipython",
    "version": 3
   },
   "file_extension": ".py",
   "mimetype": "text/x-python",
   "name": "python",
   "nbconvert_exporter": "python",
   "pygments_lexer": "ipython3",
   "version": "3.7.3"
  }
 },
 "nbformat": 4,
 "nbformat_minor": 2
}
